{
 "cells": [
  {
   "cell_type": "markdown",
   "metadata": {
    "collapsed": true
   },
   "source": [
    "# HW 2"
   ]
  },
  {
   "cell_type": "markdown",
   "metadata": {},
   "source": [
    "*by Vasyukevich Andrey*"
   ]
  },
  {
   "cell_type": "markdown",
   "metadata": {},
   "source": [
    "### Imports"
   ]
  },
  {
   "cell_type": "code",
   "execution_count": 1,
   "metadata": {
    "collapsed": true
   },
   "outputs": [],
   "source": [
    "import numpy as np\n",
    "import pandas as pd\n",
    "import scipy\n",
    "import nltk\n",
    "import matplotlib.pyplot as plt\n",
    "%matplotlib inline"
   ]
  },
  {
   "cell_type": "code",
   "execution_count": null,
   "metadata": {
    "collapsed": true
   },
   "outputs": [],
   "source": []
  },
  {
   "cell_type": "markdown",
   "metadata": {},
   "source": [
    "a. Загрузите датасет с kaggle:\n",
    "https://www.kaggle.com/kaggle/hillary-clinton-emails"
   ]
  },
  {
   "cell_type": "markdown",
   "metadata": {
    "collapsed": true
   },
   "source": [
    "b. Изучите, из чего состоит датасет."
   ]
  },
  {
   "cell_type": "code",
   "execution_count": 2,
   "metadata": {
    "collapsed": true
   },
   "outputs": [],
   "source": [
    "aliases_csv = pd.read_csv('Aliases.csv')"
   ]
  },
  {
   "cell_type": "code",
   "execution_count": 3,
   "metadata": {},
   "outputs": [
    {
     "data": {
      "text/html": [
       "<div>\n",
       "<table border=\"1\" class=\"dataframe\">\n",
       "  <thead>\n",
       "    <tr style=\"text-align: right;\">\n",
       "      <th></th>\n",
       "      <th>Id</th>\n",
       "      <th>Alias</th>\n",
       "      <th>PersonId</th>\n",
       "    </tr>\n",
       "  </thead>\n",
       "  <tbody>\n",
       "    <tr>\n",
       "      <th>0</th>\n",
       "      <td>1</td>\n",
       "      <td>111th congress</td>\n",
       "      <td>1</td>\n",
       "    </tr>\n",
       "    <tr>\n",
       "      <th>1</th>\n",
       "      <td>2</td>\n",
       "      <td>agna usemb kabul afghanistan</td>\n",
       "      <td>2</td>\n",
       "    </tr>\n",
       "    <tr>\n",
       "      <th>2</th>\n",
       "      <td>3</td>\n",
       "      <td>ap</td>\n",
       "      <td>3</td>\n",
       "    </tr>\n",
       "    <tr>\n",
       "      <th>3</th>\n",
       "      <td>4</td>\n",
       "      <td>asuncion</td>\n",
       "      <td>4</td>\n",
       "    </tr>\n",
       "    <tr>\n",
       "      <th>4</th>\n",
       "      <td>5</td>\n",
       "      <td>alec</td>\n",
       "      <td>5</td>\n",
       "    </tr>\n",
       "  </tbody>\n",
       "</table>\n",
       "</div>"
      ],
      "text/plain": [
       "   Id                         Alias  PersonId\n",
       "0   1                111th congress         1\n",
       "1   2  agna usemb kabul afghanistan         2\n",
       "2   3                            ap         3\n",
       "3   4                      asuncion         4\n",
       "4   5                          alec         5"
      ]
     },
     "execution_count": 3,
     "metadata": {},
     "output_type": "execute_result"
    }
   ],
   "source": [
    "aliases_csv.head()"
   ]
  },
  {
   "cell_type": "code",
   "execution_count": 4,
   "metadata": {
    "collapsed": true
   },
   "outputs": [],
   "source": [
    "email_receivers_csv = pd.read_csv('EmailReceivers.csv')"
   ]
  },
  {
   "cell_type": "code",
   "execution_count": 5,
   "metadata": {},
   "outputs": [
    {
     "data": {
      "text/html": [
       "<div>\n",
       "<table border=\"1\" class=\"dataframe\">\n",
       "  <thead>\n",
       "    <tr style=\"text-align: right;\">\n",
       "      <th></th>\n",
       "      <th>Id</th>\n",
       "      <th>EmailId</th>\n",
       "      <th>PersonId</th>\n",
       "    </tr>\n",
       "  </thead>\n",
       "  <tbody>\n",
       "    <tr>\n",
       "      <th>0</th>\n",
       "      <td>1</td>\n",
       "      <td>1</td>\n",
       "      <td>80</td>\n",
       "    </tr>\n",
       "    <tr>\n",
       "      <th>1</th>\n",
       "      <td>2</td>\n",
       "      <td>2</td>\n",
       "      <td>80</td>\n",
       "    </tr>\n",
       "    <tr>\n",
       "      <th>2</th>\n",
       "      <td>3</td>\n",
       "      <td>3</td>\n",
       "      <td>228</td>\n",
       "    </tr>\n",
       "    <tr>\n",
       "      <th>3</th>\n",
       "      <td>4</td>\n",
       "      <td>3</td>\n",
       "      <td>80</td>\n",
       "    </tr>\n",
       "    <tr>\n",
       "      <th>4</th>\n",
       "      <td>5</td>\n",
       "      <td>4</td>\n",
       "      <td>80</td>\n",
       "    </tr>\n",
       "  </tbody>\n",
       "</table>\n",
       "</div>"
      ],
      "text/plain": [
       "   Id  EmailId  PersonId\n",
       "0   1        1        80\n",
       "1   2        2        80\n",
       "2   3        3       228\n",
       "3   4        3        80\n",
       "4   5        4        80"
      ]
     },
     "execution_count": 5,
     "metadata": {},
     "output_type": "execute_result"
    }
   ],
   "source": [
    "email_receivers_csv.head()"
   ]
  },
  {
   "cell_type": "code",
   "execution_count": 6,
   "metadata": {
    "collapsed": true
   },
   "outputs": [],
   "source": [
    "emails_csv = pd.read_csv('Emails.csv')"
   ]
  },
  {
   "cell_type": "code",
   "execution_count": 7,
   "metadata": {},
   "outputs": [
    {
     "data": {
      "text/html": [
       "<div>\n",
       "<table border=\"1\" class=\"dataframe\">\n",
       "  <thead>\n",
       "    <tr style=\"text-align: right;\">\n",
       "      <th></th>\n",
       "      <th>Id</th>\n",
       "      <th>DocNumber</th>\n",
       "      <th>MetadataSubject</th>\n",
       "      <th>MetadataTo</th>\n",
       "      <th>MetadataFrom</th>\n",
       "      <th>SenderPersonId</th>\n",
       "      <th>MetadataDateSent</th>\n",
       "      <th>MetadataDateReleased</th>\n",
       "      <th>MetadataPdfLink</th>\n",
       "      <th>MetadataCaseNumber</th>\n",
       "      <th>...</th>\n",
       "      <th>ExtractedTo</th>\n",
       "      <th>ExtractedFrom</th>\n",
       "      <th>ExtractedCc</th>\n",
       "      <th>ExtractedDateSent</th>\n",
       "      <th>ExtractedCaseNumber</th>\n",
       "      <th>ExtractedDocNumber</th>\n",
       "      <th>ExtractedDateReleased</th>\n",
       "      <th>ExtractedReleaseInPartOrFull</th>\n",
       "      <th>ExtractedBodyText</th>\n",
       "      <th>RawText</th>\n",
       "    </tr>\n",
       "  </thead>\n",
       "  <tbody>\n",
       "    <tr>\n",
       "      <th>0</th>\n",
       "      <td>1</td>\n",
       "      <td>C05739545</td>\n",
       "      <td>WOW</td>\n",
       "      <td>H</td>\n",
       "      <td>Sullivan, Jacob J</td>\n",
       "      <td>87.0</td>\n",
       "      <td>2012-09-12T04:00:00+00:00</td>\n",
       "      <td>2015-05-22T04:00:00+00:00</td>\n",
       "      <td>DOCUMENTS/HRC_Email_1_296/HRCH2/DOC_0C05739545...</td>\n",
       "      <td>F-2015-04841</td>\n",
       "      <td>...</td>\n",
       "      <td>NaN</td>\n",
       "      <td>Sullivan, Jacob J &lt;Sullivan11@state.gov&gt;</td>\n",
       "      <td>NaN</td>\n",
       "      <td>Wednesday, September 12, 2012 10:16 AM</td>\n",
       "      <td>F-2015-04841</td>\n",
       "      <td>C05739545</td>\n",
       "      <td>05/13/2015</td>\n",
       "      <td>RELEASE IN FULL</td>\n",
       "      <td>NaN</td>\n",
       "      <td>UNCLASSIFIED\\nU.S. Department of State\\nCase N...</td>\n",
       "    </tr>\n",
       "    <tr>\n",
       "      <th>1</th>\n",
       "      <td>2</td>\n",
       "      <td>C05739546</td>\n",
       "      <td>H: LATEST: HOW SYRIA IS AIDING QADDAFI AND MOR...</td>\n",
       "      <td>H</td>\n",
       "      <td>NaN</td>\n",
       "      <td>NaN</td>\n",
       "      <td>2011-03-03T05:00:00+00:00</td>\n",
       "      <td>2015-05-22T04:00:00+00:00</td>\n",
       "      <td>DOCUMENTS/HRC_Email_1_296/HRCH1/DOC_0C05739546...</td>\n",
       "      <td>F-2015-04841</td>\n",
       "      <td>...</td>\n",
       "      <td>NaN</td>\n",
       "      <td>NaN</td>\n",
       "      <td>NaN</td>\n",
       "      <td>NaN</td>\n",
       "      <td>F-2015-04841</td>\n",
       "      <td>C05739546</td>\n",
       "      <td>05/13/2015</td>\n",
       "      <td>RELEASE IN PART</td>\n",
       "      <td>B6\\nThursday, March 3, 2011 9:45 PM\\nH: Latest...</td>\n",
       "      <td>UNCLASSIFIED\\nU.S. Department of State\\nCase N...</td>\n",
       "    </tr>\n",
       "    <tr>\n",
       "      <th>2</th>\n",
       "      <td>3</td>\n",
       "      <td>C05739547</td>\n",
       "      <td>CHRIS STEVENS</td>\n",
       "      <td>;H</td>\n",
       "      <td>Mills, Cheryl D</td>\n",
       "      <td>32.0</td>\n",
       "      <td>2012-09-12T04:00:00+00:00</td>\n",
       "      <td>2015-05-22T04:00:00+00:00</td>\n",
       "      <td>DOCUMENTS/HRC_Email_1_296/HRCH2/DOC_0C05739547...</td>\n",
       "      <td>F-2015-04841</td>\n",
       "      <td>...</td>\n",
       "      <td>B6</td>\n",
       "      <td>Mills, Cheryl D &lt;MillsCD@state.gov&gt;</td>\n",
       "      <td>Abedin, Huma</td>\n",
       "      <td>Wednesday, September 12, 2012 11:52 AM</td>\n",
       "      <td>F-2015-04841</td>\n",
       "      <td>C05739547</td>\n",
       "      <td>05/14/2015</td>\n",
       "      <td>RELEASE IN PART</td>\n",
       "      <td>Thx</td>\n",
       "      <td>UNCLASSIFIED\\nU.S. Department of State\\nCase N...</td>\n",
       "    </tr>\n",
       "    <tr>\n",
       "      <th>3</th>\n",
       "      <td>4</td>\n",
       "      <td>C05739550</td>\n",
       "      <td>CAIRO CONDEMNATION - FINAL</td>\n",
       "      <td>H</td>\n",
       "      <td>Mills, Cheryl D</td>\n",
       "      <td>32.0</td>\n",
       "      <td>2012-09-12T04:00:00+00:00</td>\n",
       "      <td>2015-05-22T04:00:00+00:00</td>\n",
       "      <td>DOCUMENTS/HRC_Email_1_296/HRCH2/DOC_0C05739550...</td>\n",
       "      <td>F-2015-04841</td>\n",
       "      <td>...</td>\n",
       "      <td>NaN</td>\n",
       "      <td>Mills, Cheryl D &lt;MillsCD@state.gov&gt;</td>\n",
       "      <td>Mitchell, Andrew B</td>\n",
       "      <td>Wednesday, September 12,2012 12:44 PM</td>\n",
       "      <td>F-2015-04841</td>\n",
       "      <td>C05739550</td>\n",
       "      <td>05/13/2015</td>\n",
       "      <td>RELEASE IN PART</td>\n",
       "      <td>NaN</td>\n",
       "      <td>UNCLASSIFIED\\nU.S. Department of State\\nCase N...</td>\n",
       "    </tr>\n",
       "    <tr>\n",
       "      <th>4</th>\n",
       "      <td>5</td>\n",
       "      <td>C05739554</td>\n",
       "      <td>H: LATEST: HOW SYRIA IS AIDING QADDAFI AND MOR...</td>\n",
       "      <td>Abedin, Huma</td>\n",
       "      <td>H</td>\n",
       "      <td>80.0</td>\n",
       "      <td>2011-03-11T05:00:00+00:00</td>\n",
       "      <td>2015-05-22T04:00:00+00:00</td>\n",
       "      <td>DOCUMENTS/HRC_Email_1_296/HRCH1/DOC_0C05739554...</td>\n",
       "      <td>F-2015-04841</td>\n",
       "      <td>...</td>\n",
       "      <td>NaN</td>\n",
       "      <td>NaN</td>\n",
       "      <td>NaN</td>\n",
       "      <td>NaN</td>\n",
       "      <td>F-2015-04841</td>\n",
       "      <td>C05739554</td>\n",
       "      <td>05/13/2015</td>\n",
       "      <td>RELEASE IN PART</td>\n",
       "      <td>H &lt;hrod17@clintonemail.com&gt;\\nFriday, March 11,...</td>\n",
       "      <td>B6\\nUNCLASSIFIED\\nU.S. Department of State\\nCa...</td>\n",
       "    </tr>\n",
       "  </tbody>\n",
       "</table>\n",
       "<p>5 rows × 22 columns</p>\n",
       "</div>"
      ],
      "text/plain": [
       "   Id  DocNumber                                    MetadataSubject  \\\n",
       "0   1  C05739545                                                WOW   \n",
       "1   2  C05739546  H: LATEST: HOW SYRIA IS AIDING QADDAFI AND MOR...   \n",
       "2   3  C05739547                                      CHRIS STEVENS   \n",
       "3   4  C05739550                         CAIRO CONDEMNATION - FINAL   \n",
       "4   5  C05739554  H: LATEST: HOW SYRIA IS AIDING QADDAFI AND MOR...   \n",
       "\n",
       "     MetadataTo       MetadataFrom  SenderPersonId           MetadataDateSent  \\\n",
       "0             H  Sullivan, Jacob J            87.0  2012-09-12T04:00:00+00:00   \n",
       "1             H                NaN             NaN  2011-03-03T05:00:00+00:00   \n",
       "2            ;H    Mills, Cheryl D            32.0  2012-09-12T04:00:00+00:00   \n",
       "3             H    Mills, Cheryl D            32.0  2012-09-12T04:00:00+00:00   \n",
       "4  Abedin, Huma                  H            80.0  2011-03-11T05:00:00+00:00   \n",
       "\n",
       "        MetadataDateReleased  \\\n",
       "0  2015-05-22T04:00:00+00:00   \n",
       "1  2015-05-22T04:00:00+00:00   \n",
       "2  2015-05-22T04:00:00+00:00   \n",
       "3  2015-05-22T04:00:00+00:00   \n",
       "4  2015-05-22T04:00:00+00:00   \n",
       "\n",
       "                                     MetadataPdfLink MetadataCaseNumber  \\\n",
       "0  DOCUMENTS/HRC_Email_1_296/HRCH2/DOC_0C05739545...       F-2015-04841   \n",
       "1  DOCUMENTS/HRC_Email_1_296/HRCH1/DOC_0C05739546...       F-2015-04841   \n",
       "2  DOCUMENTS/HRC_Email_1_296/HRCH2/DOC_0C05739547...       F-2015-04841   \n",
       "3  DOCUMENTS/HRC_Email_1_296/HRCH2/DOC_0C05739550...       F-2015-04841   \n",
       "4  DOCUMENTS/HRC_Email_1_296/HRCH1/DOC_0C05739554...       F-2015-04841   \n",
       "\n",
       "                         ...                         ExtractedTo  \\\n",
       "0                        ...                                 NaN   \n",
       "1                        ...                                 NaN   \n",
       "2                        ...                                  B6   \n",
       "3                        ...                                 NaN   \n",
       "4                        ...                                 NaN   \n",
       "\n",
       "                              ExtractedFrom         ExtractedCc  \\\n",
       "0  Sullivan, Jacob J <Sullivan11@state.gov>                 NaN   \n",
       "1                                       NaN                 NaN   \n",
       "2       Mills, Cheryl D <MillsCD@state.gov>        Abedin, Huma   \n",
       "3       Mills, Cheryl D <MillsCD@state.gov>  Mitchell, Andrew B   \n",
       "4                                       NaN                 NaN   \n",
       "\n",
       "                        ExtractedDateSent ExtractedCaseNumber  \\\n",
       "0  Wednesday, September 12, 2012 10:16 AM        F-2015-04841   \n",
       "1                                     NaN        F-2015-04841   \n",
       "2  Wednesday, September 12, 2012 11:52 AM        F-2015-04841   \n",
       "3   Wednesday, September 12,2012 12:44 PM        F-2015-04841   \n",
       "4                                     NaN        F-2015-04841   \n",
       "\n",
       "  ExtractedDocNumber ExtractedDateReleased ExtractedReleaseInPartOrFull  \\\n",
       "0          C05739545            05/13/2015              RELEASE IN FULL   \n",
       "1          C05739546            05/13/2015              RELEASE IN PART   \n",
       "2          C05739547            05/14/2015              RELEASE IN PART   \n",
       "3          C05739550            05/13/2015              RELEASE IN PART   \n",
       "4          C05739554            05/13/2015              RELEASE IN PART   \n",
       "\n",
       "                                   ExtractedBodyText  \\\n",
       "0                                                NaN   \n",
       "1  B6\\nThursday, March 3, 2011 9:45 PM\\nH: Latest...   \n",
       "2                                                Thx   \n",
       "3                                                NaN   \n",
       "4  H <hrod17@clintonemail.com>\\nFriday, March 11,...   \n",
       "\n",
       "                                             RawText  \n",
       "0  UNCLASSIFIED\\nU.S. Department of State\\nCase N...  \n",
       "1  UNCLASSIFIED\\nU.S. Department of State\\nCase N...  \n",
       "2  UNCLASSIFIED\\nU.S. Department of State\\nCase N...  \n",
       "3  UNCLASSIFIED\\nU.S. Department of State\\nCase N...  \n",
       "4  B6\\nUNCLASSIFIED\\nU.S. Department of State\\nCa...  \n",
       "\n",
       "[5 rows x 22 columns]"
      ]
     },
     "execution_count": 7,
     "metadata": {},
     "output_type": "execute_result"
    }
   ],
   "source": [
    "emails_csv.head()"
   ]
  },
  {
   "cell_type": "code",
   "execution_count": 8,
   "metadata": {
    "collapsed": true
   },
   "outputs": [],
   "source": [
    "persons_csv = pd.read_csv('Persons.csv')"
   ]
  },
  {
   "cell_type": "code",
   "execution_count": 9,
   "metadata": {},
   "outputs": [
    {
     "data": {
      "text/html": [
       "<div>\n",
       "<table border=\"1\" class=\"dataframe\">\n",
       "  <thead>\n",
       "    <tr style=\"text-align: right;\">\n",
       "      <th></th>\n",
       "      <th>Id</th>\n",
       "      <th>Name</th>\n",
       "    </tr>\n",
       "  </thead>\n",
       "  <tbody>\n",
       "    <tr>\n",
       "      <th>0</th>\n",
       "      <td>1</td>\n",
       "      <td>111th Congress</td>\n",
       "    </tr>\n",
       "    <tr>\n",
       "      <th>1</th>\n",
       "      <td>2</td>\n",
       "      <td>AGNA USEMB Kabul Afghanistan</td>\n",
       "    </tr>\n",
       "    <tr>\n",
       "      <th>2</th>\n",
       "      <td>3</td>\n",
       "      <td>AP</td>\n",
       "    </tr>\n",
       "    <tr>\n",
       "      <th>3</th>\n",
       "      <td>4</td>\n",
       "      <td>ASUNCION</td>\n",
       "    </tr>\n",
       "    <tr>\n",
       "      <th>4</th>\n",
       "      <td>5</td>\n",
       "      <td>Alec</td>\n",
       "    </tr>\n",
       "  </tbody>\n",
       "</table>\n",
       "</div>"
      ],
      "text/plain": [
       "   Id                          Name\n",
       "0   1                111th Congress\n",
       "1   2  AGNA USEMB Kabul Afghanistan\n",
       "2   3                            AP\n",
       "3   4                      ASUNCION\n",
       "4   5                          Alec"
      ]
     },
     "execution_count": 9,
     "metadata": {},
     "output_type": "execute_result"
    }
   ],
   "source": [
    "persons_csv.head()"
   ]
  },
  {
   "cell_type": "code",
   "execution_count": null,
   "metadata": {
    "collapsed": true
   },
   "outputs": [],
   "source": []
  },
  {
   "cell_type": "markdown",
   "metadata": {},
   "source": [
    "c. Предобработайте тексты как сочтете правильным для первых\n",
    "экспериментов. Опишите, как вы его предобрабатываете, и почему\n",
    "так в блокноте в markdown ячейке"
   ]
  },
  {
   "cell_type": "markdown",
   "metadata": {},
   "source": [
    "### ANSWER\n",
    "Убрал пустые письма\n",
    "Разделил письма на слова, убрав пунктуацию, слова с пунктуацией, стопслова, слова с длиной < 3, и слова из прописных символов (ими оканчивались большинство писем)\n",
    "Также отфильтровал письма, в которых в итоге осталось меньше трех слов."
   ]
  },
  {
   "cell_type": "code",
   "execution_count": 10,
   "metadata": {
    "collapsed": true
   },
   "outputs": [],
   "source": [
    "emails = emails_csv['ExtractedBodyText'].values"
   ]
  },
  {
   "cell_type": "code",
   "execution_count": 11,
   "metadata": {},
   "outputs": [
    {
     "data": {
      "text/plain": [
       "array([nan,\n",
       "       'B6\\nThursday, March 3, 2011 9:45 PM\\nH: Latest How Syria is aiding Qaddafi and more... Sid\\nhrc memo syria aiding libya 030311.docx; hrc memo syria aiding libya 030311.docx\\nMarch 3, 2011\\nFor: Hillary',\n",
       "       'Thx', nan,\n",
       "       'H <hrod17@clintonemail.com>\\nFriday, March 11, 2011 1:36 PM\\nHuma Abedin\\nFw: H: Latest: How Syria is aiding Qaddafi and more... Sid\\nhrc memo syria aiding libya 030311.docx\\nPis print.'], dtype=object)"
      ]
     },
     "execution_count": 11,
     "metadata": {},
     "output_type": "execute_result"
    }
   ],
   "source": [
    "emails[:5]"
   ]
  },
  {
   "cell_type": "code",
   "execution_count": 12,
   "metadata": {
    "collapsed": true
   },
   "outputs": [],
   "source": [
    "emails = emails[~pd.isnull(emails)]"
   ]
  },
  {
   "cell_type": "code",
   "execution_count": 14,
   "metadata": {
    "scrolled": true
   },
   "outputs": [
    {
     "data": {
      "text/plain": [
       "array([ 'B6\\nThursday, March 3, 2011 9:45 PM\\nH: Latest How Syria is aiding Qaddafi and more... Sid\\nhrc memo syria aiding libya 030311.docx; hrc memo syria aiding libya 030311.docx\\nMarch 3, 2011\\nFor: Hillary',\n",
       "       'Thx',\n",
       "       'H <hrod17@clintonemail.com>\\nFriday, March 11, 2011 1:36 PM\\nHuma Abedin\\nFw: H: Latest: How Syria is aiding Qaddafi and more... Sid\\nhrc memo syria aiding libya 030311.docx\\nPis print.',\n",
       "       \"Pis print.\\n-•-...-^\\nH < hrod17@clintonernailcom>\\nWednesday, September 12, 2012 2:11 PM\\n°Russorv@state.gov'\\nFw: Meet The Right-Wing Extremist Behind Anti-fvluslim Film That Sparked Deadly Riots\\nFrom [meat)\\nSent: Wednesday, September 12, 2012 01:00 PM\\nTo: 11\\nSubject: Meet The Right Wing Extremist Behind Anti-Muslim Film That Sparked Deadly Riots\\nhtte/maxbiumenthal.com12012/09/meet-the-right-wing-extremist-behind-anti-musiim-tihn-that-sparked-\\ndeadly-riots/\\nSent from my Verizon Wireless 4G LTE DROID\\nU.S. Department of State\\nCase No. F-2015-04841\\nDoc No. C05739559\\nDate: 05/13/2015\\nSTATE DEPT. - PRODUCED TO HOUSE SELECT BENGHAZI COMM.\\nSUBJECT TO AGREEMENT ON SENSITIVE INFORMATION & REDACTIONS. NO FOIA WAIVER. STATE-5CB0045251\",\n",
       "       'H <hrod17@clintonemail.corn>\\nFriday, March 11, 2011 1:36 PM\\nHuma Abedin\\nFw: H: Latest: How Syria is aiding Qaddafi and more... Sid\\nhrc memo Syria aiding libya 030311.docx\\nPis print.'], dtype=object)"
      ]
     },
     "execution_count": 14,
     "metadata": {},
     "output_type": "execute_result"
    }
   ],
   "source": [
    "emails[:5]"
   ]
  },
  {
   "cell_type": "code",
   "execution_count": 15,
   "metadata": {
    "collapsed": true
   },
   "outputs": [],
   "source": [
    "from nltk.tokenize import sent_tokenize, word_tokenize\n",
    "from nltk.corpus import stopwords\n",
    "import string"
   ]
  },
  {
   "cell_type": "code",
   "execution_count": 16,
   "metadata": {
    "collapsed": true
   },
   "outputs": [],
   "source": [
    "punctuation = set(string.punctuation)\n",
    "stop_words = set(stopwords.words(\"english\")) # | { 'am', 'pm' }\n",
    "lemmatizer = nltk.WordNetLemmatizer()\n",
    "\n",
    "def email_to_words(email):\n",
    "    words = []\n",
    "    for sentence in sent_tokenize(email):\n",
    "        for token in word_tokenize(sentence):\n",
    "            if (len(token) > 2) and (not (set(token) & punctuation)) and \\\n",
    "               (token not in stop_words) and (token.upper() != token or token.isdigit()):\n",
    "                words.append(lemmatizer.lemmatize(token.lower()))\n",
    "    return np.asarray(words)"
   ]
  },
  {
   "cell_type": "code",
   "execution_count": 17,
   "metadata": {},
   "outputs": [
    {
     "data": {
      "text/plain": [
       "array(['thursday', 'march', '2011', 'latest', 'how', 'syria', 'aiding',\n",
       "       'qaddafi', 'sid', 'hrc', 'memo', 'syria', 'aiding', 'libya', 'hrc',\n",
       "       'memo', 'syria', 'aiding', 'libya', 'march', '2011', 'for',\n",
       "       'hillary'], \n",
       "      dtype='<U8')"
      ]
     },
     "execution_count": 17,
     "metadata": {},
     "output_type": "execute_result"
    }
   ],
   "source": [
    "email_to_words(emails[0])"
   ]
  },
  {
   "cell_type": "code",
   "execution_count": 18,
   "metadata": {
    "collapsed": true
   },
   "outputs": [],
   "source": [
    "from collections import namedtuple"
   ]
  },
  {
   "cell_type": "code",
   "execution_count": 19,
   "metadata": {
    "collapsed": true
   },
   "outputs": [],
   "source": [
    "words = np.asarray(list(map(email_to_words, emails)))"
   ]
  },
  {
   "cell_type": "code",
   "execution_count": 20,
   "metadata": {},
   "outputs": [
    {
     "name": "stdout",
     "output_type": "stream",
     "text": [
      "['thursday' 'march' '2011' 'latest' 'how' 'syria' 'aiding' 'qaddafi' 'sid'\n",
      " 'hrc' 'memo' 'syria' 'aiding' 'libya' 'hrc' 'memo' 'syria' 'aiding'\n",
      " 'libya' 'march' '2011' 'for' 'hillary']\n"
     ]
    }
   ],
   "source": [
    "print(words[0])"
   ]
  },
  {
   "cell_type": "code",
   "execution_count": 21,
   "metadata": {},
   "outputs": [
    {
     "name": "stdout",
     "output_type": "stream",
     "text": [
      "B6\n",
      "Thursday, March 3, 2011 9:45 PM\n",
      "H: Latest How Syria is aiding Qaddafi and more... Sid\n",
      "hrc memo syria aiding libya 030311.docx; hrc memo syria aiding libya 030311.docx\n",
      "March 3, 2011\n",
      "For: Hillary \n",
      " ['thursday' 'march' '2011' 'latest' 'how' 'syria' 'aiding' 'qaddafi' 'sid'\n",
      " 'hrc' 'memo' 'syria' 'aiding' 'libya' 'hrc' 'memo' 'syria' 'aiding'\n",
      " 'libya' 'march' '2011' 'for' 'hillary']\n"
     ]
    }
   ],
   "source": [
    "print(emails[0], '\\n', words[0])"
   ]
  },
  {
   "cell_type": "code",
   "execution_count": null,
   "metadata": {
    "collapsed": true
   },
   "outputs": [],
   "source": []
  },
  {
   "cell_type": "code",
   "execution_count": 22,
   "metadata": {
    "collapsed": true
   },
   "outputs": [],
   "source": [
    "from collections import Counter\n",
    "word_counts = Counter(sum(map(list, words), []))"
   ]
  },
  {
   "cell_type": "code",
   "execution_count": 23,
   "metadata": {
    "collapsed": true
   },
   "outputs": [],
   "source": [
    "def filter_rare_words(words):\n",
    "    return np.asarray(list(filter(lambda word: word_counts[word] > 2, words)))"
   ]
  },
  {
   "cell_type": "code",
   "execution_count": 24,
   "metadata": {
    "collapsed": true
   },
   "outputs": [],
   "source": [
    "words = np.asarray(list(map(filter_rare_words, words)))"
   ]
  },
  {
   "cell_type": "code",
   "execution_count": null,
   "metadata": {
    "collapsed": true
   },
   "outputs": [],
   "source": []
  },
  {
   "cell_type": "code",
   "execution_count": 25,
   "metadata": {},
   "outputs": [
    {
     "data": {
      "text/plain": [
       "(array([ 1692.,  1152.,   883.,   649.,   418.,   316.,   215.,   165.,\n",
       "          113.,  1139.]),\n",
       " array([  0.,   3.,   6.,   9.,  12.,  15.,  18.,  21.,  24.,  27.,  30.]),\n",
       " <a list of 10 Patch objects>)"
      ]
     },
     "execution_count": 25,
     "metadata": {},
     "output_type": "execute_result"
    },
    {
     "data": {
      "image/png": "[encoded data removed]",
      "text/plain": [
       "<matplotlib.figure.Figure at 0x1561f208>"
      ]
     },
     "metadata": {},
     "output_type": "display_data"
    }
   ],
   "source": [
    "plt.hist(list(map(lambda word: min(30, len(word)), words)))"
   ]
  },
  {
   "cell_type": "code",
   "execution_count": 26,
   "metadata": {
    "collapsed": true
   },
   "outputs": [],
   "source": [
    "inds = list(map(lambda e: len(e) > 2, words))"
   ]
  },
  {
   "cell_type": "code",
   "execution_count": 27,
   "metadata": {},
   "outputs": [
    {
     "data": {
      "text/plain": [
       "5050"
      ]
     },
     "execution_count": 27,
     "metadata": {},
     "output_type": "execute_result"
    }
   ],
   "source": [
    "sum(inds)"
   ]
  },
  {
   "cell_type": "code",
   "execution_count": 28,
   "metadata": {
    "collapsed": true
   },
   "outputs": [],
   "source": [
    "emails = emails[inds]\n",
    "words = words[inds]"
   ]
  },
  {
   "cell_type": "code",
   "execution_count": 29,
   "metadata": {},
   "outputs": [
    {
     "name": "stdout",
     "output_type": "stream",
     "text": [
      "5050\n"
     ]
    }
   ],
   "source": [
    "print(len(emails))"
   ]
  },
  {
   "cell_type": "code",
   "execution_count": null,
   "metadata": {
    "collapsed": true
   },
   "outputs": [],
   "source": []
  },
  {
   "cell_type": "markdown",
   "metadata": {},
   "source": [
    "d. Выясните, какие биграммы чаще всего встречаются в датасете"
   ]
  },
  {
   "cell_type": "code",
   "execution_count": 30,
   "metadata": {
    "collapsed": true
   },
   "outputs": [],
   "source": [
    "from collections import Counter\n",
    "counter = Counter(sum(map(list, map(nltk.bigrams, words)), []))"
   ]
  },
  {
   "cell_type": "code",
   "execution_count": 31,
   "metadata": {
    "collapsed": true
   },
   "outputs": [],
   "source": [
    "items = sorted(counter.items(), key=lambda t: t[1], reverse=True)"
   ]
  },
  {
   "cell_type": "code",
   "execution_count": 32,
   "metadata": {},
   "outputs": [
    {
     "data": {
      "text/plain": [
       "[(('secretary', 'office'), 459),\n",
       " (('state', 'department'), 449),\n",
       " (('united', 'state'), 447),\n",
       " (('white', 'house'), 414),\n",
       " (('department', 'state'), 360),\n",
       " (('office', 'secretary'), 324),\n",
       " (('secretary', 'state'), 251),\n",
       " (('doc', 'date'), 224),\n",
       " (('new', 'york'), 218),\n",
       " (('private', 'residence'), 216),\n",
       " (('case', 'doc'), 215),\n",
       " (('state', 'case'), 212),\n",
       " (('mill', 'cheryl'), 212),\n",
       " (('let', 'know'), 179),\n",
       " (('health', 'care'), 167)]"
      ]
     },
     "execution_count": 32,
     "metadata": {},
     "output_type": "execute_result"
    }
   ],
   "source": [
    "items[:15]"
   ]
  },
  {
   "cell_type": "code",
   "execution_count": null,
   "metadata": {
    "collapsed": true
   },
   "outputs": [],
   "source": []
  },
  {
   "cell_type": "markdown",
   "metadata": {},
   "source": [
    "e. Попробуйте выделить коллокации из двух слов по PMI с помощью nltk\n",
    "(примеры можно найти по ссылке:\n",
    "http://www.nltk.org/howto/collocations.html)"
   ]
  },
  {
   "cell_type": "code",
   "execution_count": 33,
   "metadata": {
    "collapsed": true
   },
   "outputs": [],
   "source": [
    "bigram_measures = nltk.collocations.BigramAssocMeasures()"
   ]
  },
  {
   "cell_type": "code",
   "execution_count": 34,
   "metadata": {},
   "outputs": [
    {
     "data": {
      "text/plain": [
       "294150"
      ]
     },
     "execution_count": 34,
     "metadata": {},
     "output_type": "execute_result"
    }
   ],
   "source": [
    "all_words = sum(map(list, words), [])\n",
    "len(all_words)"
   ]
  },
  {
   "cell_type": "code",
   "execution_count": 35,
   "metadata": {
    "collapsed": true
   },
   "outputs": [],
   "source": [
    "finder = nltk.collocations.BigramCollocationFinder.from_words(all_words)"
   ]
  },
  {
   "cell_type": "code",
   "execution_count": 36,
   "metadata": {
    "collapsed": true
   },
   "outputs": [],
   "source": [
    "collocations = finder.nbest(bigram_measures.pmi, 150)"
   ]
  },
  {
   "cell_type": "code",
   "execution_count": 37,
   "metadata": {},
   "outputs": [
    {
     "data": {
      "text/plain": [
       "[('har', 'homa'),\n",
       " ('hardship', 'waiver'),\n",
       " ('hong', 'kong'),\n",
       " ('phd', 'purdue'),\n",
       " ('tunku', 'varadarajan'),\n",
       " ('ardebil', 'isfahan'),\n",
       " ('ashfaq', 'parvez'),\n",
       " ('hormozegan', 'hamedan'),\n",
       " ('markezi', 'hormozegan'),\n",
       " ('nuestras', 'hijas'),\n",
       " ('sitio', 'colosio'),\n",
       " ('243', '8054'),\n",
       " ('abdul', 'ghani'),\n",
       " ('cardinal', 'stadium'),\n",
       " ('hubert', 'humphrey'),\n",
       " ('lame', 'duck'),\n",
       " ('pmmeeting', 'pmsecretary'),\n",
       " ('puerto', 'rico'),\n",
       " ('resistant', 'striga'),\n",
       " ('sheikh', 'jarrah'),\n",
       " ('courthouse', 'newry'),\n",
       " ('courtroom', 'idle'),\n",
       " ('cyrenaica', 'barge'),\n",
       " ('detected', 'noxious'),\n",
       " ('eden', 'fortress'),\n",
       " ('famously', 'solicited'),\n",
       " ('inked', 'lucrative'),\n",
       " ('neil', 'howe'),\n",
       " ('noxious', 'fume'),\n",
       " ('olive', 'grove'),\n",
       " ('pig', 'fiasco'),\n",
       " ('tableau', 'fearsome'),\n",
       " ('trey', 'grayson'),\n",
       " ('brent', 'scowcroft'),\n",
       " ('chico', 'menashe'),\n",
       " ('colosio', 'valle'),\n",
       " ('costa', 'rica'),\n",
       " ('golestan', 'gilan'),\n",
       " ('ilam', 'bushehr'),\n",
       " ('isfahan', 'ilam'),\n",
       " ('khuzestan', 'zanjan'),\n",
       " ('kordestan', 'kerman'),\n",
       " ('omni', 'shoreham'),\n",
       " ('pronounce', 'abyei'),\n",
       " ('randy', 'neugebauer'),\n",
       " ('semnan', 'sistan'),\n",
       " ('zanjan', 'semnan'),\n",
       " ('boyerahmad', 'golestan'),\n",
       " ('breeding', 'genetics'),\n",
       " ('dimartino', 'kitty'),\n",
       " ('it—one', 'connects'),\n",
       " ('kent', 'conrad'),\n",
       " ('kermanshah', 'boyerahmad'),\n",
       " ('licence', 'reproduce'),\n",
       " ('lois', 'quam'),\n",
       " ('marisa', 'mcauliffe'),\n",
       " ('roy', 'spence'),\n",
       " ('steny', 'hoyer'),\n",
       " ('striga', 'weed'),\n",
       " ('weed', 'devastates'),\n",
       " ('1789', '1789'),\n",
       " ('chaharmahal', 'bakhtiari'),\n",
       " ('gall', 'bladder'),\n",
       " ('viktor', 'bout'),\n",
       " ('winston', 'churchill'),\n",
       " ('authoritarianism', 'anarchy'),\n",
       " ('awesome', 'punch'),\n",
       " ('cook', 'stove'),\n",
       " ('eliciting', 'laughter'),\n",
       " ('ezra', 'taft'),\n",
       " ('fixture', 'donna'),\n",
       " ('geography', 'flooding'),\n",
       " ('hack', 'hysterical'),\n",
       " ('owen', 'patterson'),\n",
       " ('philadelphia', 'inquirer'),\n",
       " ('placard', 'fashioned'),\n",
       " ('practiced', 'propagandist'),\n",
       " ('purge', 'ideologically'),\n",
       " ('purge', 'upstate'),\n",
       " ('sadism', 'workable'),\n",
       " ('saint', 'distanced'),\n",
       " ('smell', 'vacillation'),\n",
       " ('sorrow', 'disbelief'),\n",
       " ('worthless', 'sinner'),\n",
       " ('yossi', 'klein'),\n",
       " ('zach', 'iscol'),\n",
       " ('buenos', 'aire'),\n",
       " ('de', 'moines'),\n",
       " ('de', 'plaines'),\n",
       " ('elliott', 'trudeau'),\n",
       " ('gilan', 'lorestan'),\n",
       " ('judea', 'samaria'),\n",
       " ('laurie', 'rubiner'),\n",
       " ('marwan', 'muasher'),\n",
       " ('qazvin', 'qom'),\n",
       " ('qom', 'kordestan'),\n",
       " ('swine', 'flu'),\n",
       " ('sistan', 'baluchistan'),\n",
       " ('anwar', 'sadat'),\n",
       " ('azadegan', 'oilfield'),\n",
       " ('aboul', 'gheit'),\n",
       " ('beacon', 'theater'),\n",
       " ('hamedan', 'yazd'),\n",
       " ('recommends', 'aye'),\n",
       " ('achilles', 'heel'),\n",
       " ('claudia', 'lvette'),\n",
       " ('hardy', 'x79575'),\n",
       " ('jesus', 'christ'),\n",
       " ('kin', 'notification'),\n",
       " ('mel', 'gibson'),\n",
       " ('thad', 'cochran'),\n",
       " ('alistair', 'darling'),\n",
       " ('churned', 'virulent'),\n",
       " ('deplores', 'intentional'),\n",
       " ('freeman', 'digest'),\n",
       " ('fruit', 'grain'),\n",
       " ('ice', 'cream'),\n",
       " ('installment', 'maintenance'),\n",
       " ('lineup', 'mesh'),\n",
       " ('mccaughey', 'falsely'),\n",
       " ('notebook', 'approps'),\n",
       " ('rabid', 'detroit'),\n",
       " ('samuelson', 'heather'),\n",
       " ('sgt', 'arad'),\n",
       " ('shouting', 'backbench'),\n",
       " ('slippery', 'slope'),\n",
       " ('stifle', 'machination'),\n",
       " ('terminal', 'leased'),\n",
       " ('waiver', 'exempt'),\n",
       " ('abides', 'meaningless'),\n",
       " ('aqueduct', 'gaming'),\n",
       " ('atheist', 'agnostic'),\n",
       " ('certified', 'paramedic'),\n",
       " ('dominionists', 'differ'),\n",
       " ('gideon', 'levy'),\n",
       " ('heckling', 'walton'),\n",
       " ('iwo', 'jima'),\n",
       " ('kiss', 'takano'),\n",
       " ('naomi', 'chazan'),\n",
       " ('sao', 'paulo'),\n",
       " ('takano', 'heckling'),\n",
       " ('vi', 'vi'),\n",
       " ('alvaro', 'uribe'),\n",
       " ('cambridge', '02138'),\n",
       " ('gebisa', 'ejeta'),\n",
       " ('maya', 'angelou'),\n",
       " ('shimon', 'peres'),\n",
       " ('silvio', 'berlusconi'),\n",
       " ('waldorf', 'astoria'),\n",
       " ('disgusting', 'reprehensible')]"
      ]
     },
     "execution_count": 37,
     "metadata": {},
     "output_type": "execute_result"
    }
   ],
   "source": [
    "collocations"
   ]
  },
  {
   "cell_type": "code",
   "execution_count": 38,
   "metadata": {
    "collapsed": true
   },
   "outputs": [],
   "source": [
    "mweTokenizer = nltk.tokenize.MWETokenizer(collocations)"
   ]
  },
  {
   "cell_type": "code",
   "execution_count": 39,
   "metadata": {
    "collapsed": true
   },
   "outputs": [],
   "source": [
    "words = np.asarray(list(map(mweTokenizer.tokenize, words)))"
   ]
  },
  {
   "cell_type": "code",
   "execution_count": null,
   "metadata": {
    "collapsed": true
   },
   "outputs": [],
   "source": []
  },
  {
   "cell_type": "markdown",
   "metadata": {},
   "source": [
    "f. Выполните любую несложную кластеризацию писем (не тратьте на\n",
    "этот шаг много времени)"
   ]
  },
  {
   "cell_type": "code",
   "execution_count": 40,
   "metadata": {
    "collapsed": true
   },
   "outputs": [],
   "source": [
    "from sklearn.feature_extraction.text import CountVectorizer, TfidfVectorizer\n",
    "from sklearn.cluster import KMeans, AgglomerativeClustering, AffinityPropagation\n",
    "from sklearn.metrics import silhouette_score"
   ]
  },
  {
   "cell_type": "code",
   "execution_count": null,
   "metadata": {
    "collapsed": true
   },
   "outputs": [],
   "source": []
  },
  {
   "cell_type": "code",
   "execution_count": 41,
   "metadata": {
    "collapsed": true
   },
   "outputs": [],
   "source": [
    "emails_from_words = list(map(lambda l: ' '.join(l), words))"
   ]
  },
  {
   "cell_type": "code",
   "execution_count": null,
   "metadata": {
    "collapsed": true
   },
   "outputs": [],
   "source": [
    "# Выбран TfidfVectorizer, так как CountVectorizer все письма относил к одному кластеру."
   ]
  },
  {
   "cell_type": "code",
   "execution_count": 44,
   "metadata": {
    "collapsed": true
   },
   "outputs": [],
   "source": [
    "# vectorizer = CountVectorizer()\n",
    "vectorizer = TfidfVectorizer(ngram_range=(1, 3))"
   ]
  },
  {
   "cell_type": "code",
   "execution_count": 45,
   "metadata": {},
   "outputs": [],
   "source": [
    "X = vectorizer.fit_transform(emails_from_words)"
   ]
  },
  {
   "cell_type": "code",
   "execution_count": 46,
   "metadata": {},
   "outputs": [
    {
     "name": "stdout",
     "output_type": "stream",
     "text": [
      "2 \t 0.00327123250497\n",
      "Counter({1: 4974, 0: 76})\n",
      "3 \t 0.00396472195512\n",
      "Counter({0: 4623, 2: 351, 1: 76})\n",
      "4 \t 0.00402314875001\n",
      "Counter({0: 4180, 3: 516, 2: 278, 1: 76})\n",
      "5 \t 0.00542285090715\n",
      "Counter({1: 4083, 4: 508, 0: 321, 3: 76, 2: 62})\n",
      "6 \t 0.00588842293872\n",
      "Counter({2: 3945, 5: 444, 1: 375, 3: 148, 4: 76, 0: 62})\n",
      "7 \t 0.00629200194776\n",
      "Counter({1: 3802, 4: 540, 2: 214, 6: 196, 3: 152, 5: 76, 0: 70})\n",
      "8 \t 0.00680326838138\n",
      "Counter({2: 3493, 3: 530, 4: 436, 0: 167, 5: 153, 6: 133, 7: 76, 1: 62})\n",
      "9 \t 0.00704136175662\n",
      "Counter({1: 3717, 2: 425, 0: 412, 6: 142, 7: 102, 4: 100, 8: 76, 3: 40, 5: 36})\n",
      "10 \t 0.00820514270356\n",
      "Counter({3: 3523, 6: 453, 1: 383, 8: 191, 9: 152, 7: 148, 5: 76, 2: 71, 4: 39, 0: 14})\n",
      "11 \t 0.00950287596626\n",
      "Counter({7: 2734, 10: 793, 8: 467, 0: 404, 6: 153, 3: 136, 1: 135, 9: 76, 4: 68, 5: 62, 2: 22})\n",
      "12 \t 0.00945048035511\n",
      "Counter({9: 3533, 6: 322, 10: 211, 7: 187, 4: 180, 5: 148, 8: 148, 3: 122, 2: 76, 11: 62, 1: 39, 0: 22})\n",
      "13 \t 0.00952889732936\n",
      "Counter({9: 3216, 8: 412, 3: 291, 5: 236, 2: 233, 12: 182, 0: 147, 1: 76, 6: 66, 7: 62, 10: 54, 4: 39, 11: 36})\n",
      "14 \t 0.0103592085258\n",
      "Counter({4: 3429, 2: 283, 12: 267, 9: 212, 0: 174, 3: 160, 7: 150, 6: 104, 13: 76, 11: 61, 8: 40, 1: 39, 10: 33, 5: 22})\n"
     ]
    }
   ],
   "source": [
    "for k in range(2, 15):\n",
    "    est = KMeans(n_clusters=k, algorithm='full').fit(X)\n",
    "    print(k, '\\t', silhouette_score(X, est.labels_))\n",
    "    print(Counter(est.labels_))"
   ]
  },
  {
   "cell_type": "code",
   "execution_count": null,
   "metadata": {
    "collapsed": true
   },
   "outputs": [],
   "source": []
  },
  {
   "cell_type": "code",
   "execution_count": null,
   "metadata": {
    "collapsed": true
   },
   "outputs": [],
   "source": [
    "# Число кластеров выбрал почти рандомно (по уменьшению размера макс. кластера), так как silhouette_score не показался значимым."
   ]
  },
  {
   "cell_type": "code",
   "execution_count": 48,
   "metadata": {},
   "outputs": [
    {
     "name": "stdout",
     "output_type": "stream",
     "text": [
      "Counter({7: 3589, 2: 549, 6: 427, 5: 152, 1: 147, 3: 76, 0: 62, 4: 48})\n"
     ]
    }
   ],
   "source": [
    "labels = KMeans(n_clusters=8, algorithm='full').fit(X).labels_\n",
    "print(Counter(labels))"
   ]
  },
  {
   "cell_type": "code",
   "execution_count": null,
   "metadata": {
    "collapsed": true
   },
   "outputs": [],
   "source": []
  },
  {
   "cell_type": "markdown",
   "metadata": {},
   "source": [
    "g. Придумайте, как визуализировать содержание кластеров. Например,\n",
    "можно выводить самые частые слова из каждого кластера (но,\n",
    "вероятно, это не самая удачная идея). Визуализируйте ту\n",
    "кластеризацию, которая у вас уже получилась."
   ]
  },
  {
   "cell_type": "code",
   "execution_count": 49,
   "metadata": {
    "collapsed": true
   },
   "outputs": [],
   "source": [
    "# Выводим размеры кластеров"
   ]
  },
  {
   "cell_type": "code",
   "execution_count": 51,
   "metadata": {},
   "outputs": [
    {
     "name": "stdout",
     "output_type": "stream",
     "text": [
      "[(0, 62), (1, 147), (2, 549), (3, 76), (4, 48), (5, 152), (6, 427), (7, 3589)]\n"
     ]
    }
   ],
   "source": [
    "print(sorted(Counter(labels).items()))"
   ]
  },
  {
   "cell_type": "code",
   "execution_count": null,
   "metadata": {
    "collapsed": true
   },
   "outputs": [],
   "source": []
  },
  {
   "cell_type": "code",
   "execution_count": 52,
   "metadata": {
    "collapsed": true
   },
   "outputs": [],
   "source": [
    "# Выводим распределение длин писем по кластерам"
   ]
  },
  {
   "cell_type": "code",
   "execution_count": 53,
   "metadata": {},
   "outputs": [
    {
     "name": "stdout",
     "output_type": "stream",
     "text": [
      "0\n",
      "40.1451612903 16.7840619235\n",
      "1\n",
      "33.9115646259 16.7002078158\n",
      "2\n",
      "28.9744990893 33.3160513393\n",
      "3\n",
      "139.013157895 98.8178139466\n",
      "4\n",
      "61.5416666667 31.085874561\n",
      "5\n",
      "30.6710526316 15.3296137194\n",
      "6\n",
      "30.6088992974 40.0861392814\n",
      "7\n",
      "188.08470326 682.468566847\n"
     ]
    }
   ],
   "source": [
    "for label in range(len(set(labels))):\n",
    "    lens = []\n",
    "    for x, labelx in zip(X, labels):\n",
    "        if labelx == label:\n",
    "            lens.append(len(x.data))\n",
    "    print(label)\n",
    "    print(np.mean(lens), np.std(lens))"
   ]
  },
  {
   "cell_type": "code",
   "execution_count": null,
   "metadata": {
    "collapsed": true
   },
   "outputs": [],
   "source": []
  },
  {
   "cell_type": "code",
   "execution_count": 54,
   "metadata": {
    "collapsed": true
   },
   "outputs": [],
   "source": [
    "top_n = 15"
   ]
  },
  {
   "cell_type": "code",
   "execution_count": null,
   "metadata": {
    "collapsed": true
   },
   "outputs": [],
   "source": []
  },
  {
   "cell_type": "code",
   "execution_count": 55,
   "metadata": {
    "collapsed": true
   },
   "outputs": [],
   "source": [
    "def get_word_by_sparse_ind(ind, vectorizer):\n",
    "    tmp = scipy.sparse.csr.csr_matrix(([1], ([0], [ind])))\n",
    "    return vectorizer.inverse_transform(tmp)[0][0]"
   ]
  },
  {
   "cell_type": "code",
   "execution_count": null,
   "metadata": {
    "collapsed": true
   },
   "outputs": [],
   "source": []
  },
  {
   "cell_type": "code",
   "execution_count": 56,
   "metadata": {
    "collapsed": true
   },
   "outputs": [],
   "source": [
    "# Выводим самые популярные слова в кластеров с учетом их частоты, взвешенные с весом tfidf. "
   ]
  },
  {
   "cell_type": "code",
   "execution_count": 69,
   "metadata": {},
   "outputs": [
    {
     "name": "stdout",
     "output_type": "stream",
     "text": [
      "0\n",
      "valmoro lona-valmoro lona assistant-secretary-state assistant-secretary assistant lona-valmoro-special valmoro-special valmoro-special-assistant secretary-state special-assistant special-assistant-secretary special secretary state\n",
      "1\n",
      "abedin huma abedin-huma abedinh abedin-huma-abedinh huma-abedinh 2009 august-2009 august huma-abedinh-saturday abedinh-saturday saturday 2010 huma-abedin sunday\n",
      "2\n",
      "call pls print pls-print pi call-sheet add sheet hrod17 print-hrod17 call-list thx ops list will\n",
      "3\n",
      "secretary-office secretary office office-secretary room secretary-office-secretary route state-department residence office-secretary-office department private-residence private state conference-room\n",
      "4\n",
      "please immediate-assistance assistance-please immediate-assistance-please need-immediate need-immediate-assistance immediate assistance need please-contact please-call contact access-email assistance-please-call traveling\n",
      "5\n",
      "mill cheryl-millscd mill-cheryl-millscd mill-cheryl millscd cheryl 2009 cheryl-millscd-friday millscd-friday fyi 2010 friday cheryl-millscd-saturday millscd-saturday cheryl-millscd-thursday\n",
      "6\n",
      "can talk what call tomorrow get can-call can-get want can-talk want-talk thx work time today\n",
      "7\n",
      "the see get 2010 would know state work time also tomorrow let will 2009 good\n"
     ]
    }
   ],
   "source": [
    "for label in range(len(set(labels))):\n",
    "    ind_to_tfidf = {}\n",
    "    for x, labelx in zip(X, labels):\n",
    "        if labelx == label:\n",
    "            for ind, data in zip(x.indices, x.data):\n",
    "                if ind not in ind_to_tfidf:\n",
    "                    ind_to_tfidf[ind] = 0\n",
    "                ind_to_tfidf[ind] += data\n",
    "    items = sorted(ind_to_tfidf.items(), key=lambda t: t[1], reverse=True)\n",
    "    inds = list(zip(*items))[0][:top_n]\n",
    "    print(label)\n",
    "    print(' '.join(map(lambda ind: '-'.join(get_word_by_sparse_ind(ind, vectorizer).split()), inds)))"
   ]
  },
  {
   "cell_type": "code",
   "execution_count": null,
   "metadata": {
    "collapsed": true
   },
   "outputs": [],
   "source": []
  },
  {
   "cell_type": "code",
   "execution_count": 89,
   "metadata": {
    "collapsed": true
   },
   "outputs": [],
   "source": [
    "# Альтернативный способ выбора топ слов.\n",
    "# Объединяем каждый кластер в один документ, пересчитываем tfidf и опять выводим топ слов.\n",
    "# // Способ менее удачен по сравнению с предыдущим, так как он отдает предпочтение частым словам."
   ]
  },
  {
   "cell_type": "code",
   "execution_count": 90,
   "metadata": {
    "collapsed": true
   },
   "outputs": [],
   "source": [
    "def form_clusters(X, labels, emails_from_words):\n",
    "    clusters = ['' for i in range(len(set(labels)))]\n",
    "    for i, (x, label) in enumerate(zip(X, labels)):\n",
    "        clusters[label] += emails_from_words[i] + ' '\n",
    "    return clusters"
   ]
  },
  {
   "cell_type": "code",
   "execution_count": 91,
   "metadata": {},
   "outputs": [],
   "source": [
    "clusters = form_clusters(X, labels, emails_from_words)"
   ]
  },
  {
   "cell_type": "code",
   "execution_count": 92,
   "metadata": {
    "collapsed": true
   },
   "outputs": [],
   "source": [
    "clusters_vectorizer = TfidfVectorizer()"
   ]
  },
  {
   "cell_type": "code",
   "execution_count": 93,
   "metadata": {
    "collapsed": true
   },
   "outputs": [],
   "source": [
    "X_clusters = clusters_vectorizer.fit_transform(clusters)"
   ]
  },
  {
   "cell_type": "code",
   "execution_count": 94,
   "metadata": {},
   "outputs": [
    {
     "name": "stdout",
     "output_type": "stream",
     "text": [
      "0\n",
      "valmoro assistant lona state special secretary direct 202 ecial will yes hillary clinton would like\n",
      "1\n",
      "abedinh huma abedin 2009 august 2010 saturday call sunday september thursday wednesday sullivan may jacob\n",
      "2\n",
      "call pls print pi also sheet hrod17 add want thx back list tomorrow will today\n",
      "3\n",
      "office secretary room department route private residence state conference house airport floor treaty white outer\n",
      "4\n",
      "immediate please assistance access need recipient contact fe80 message system microsoft diagnostic toiv email laszczych\n",
      "5\n",
      "millscd mill cheryl 2009 fyi 2010 friday april saturday cdm thursday august see jacob may\n",
      "6\n",
      "talk can what call want tomorrow also get would time know work today thx send\n",
      "7\n",
      "the said obama would state one president republican also party american year but people new\n"
     ]
    }
   ],
   "source": [
    "for cluster, label in zip(X_clusters, range(X_clusters.shape[0])):\n",
    "    ind_data = list(zip(cluster.indices, cluster.data))\n",
    "    ind_data.sort(key=lambda t: t[1], reverse=True)\n",
    "    inds = list(zip(*ind_data))[0][:top_n]\n",
    "    print(label)\n",
    "    print(' '.join(map(lambda ind: '-'.join(get_word_by_sparse_ind(ind, clusters_vectorizer).split()), inds)))"
   ]
  },
  {
   "cell_type": "code",
   "execution_count": null,
   "metadata": {
    "collapsed": true
   },
   "outputs": [],
   "source": []
  },
  {
   "cell_type": "markdown",
   "metadata": {},
   "source": [
    "h. Поработайте с признаками и методом кластеризации так, чтобы\n",
    "кластеры выглядели наиболее интерпретируемыми."
   ]
  },
  {
   "cell_type": "code",
   "execution_count": 97,
   "metadata": {},
   "outputs": [],
   "source": [
    "# Было сделано в предыдущих пунктах."
   ]
  },
  {
   "cell_type": "code",
   "execution_count": 98,
   "metadata": {},
   "outputs": [],
   "source": [
    "# Кластеры уже выглядят достаточно интерпретируемыми, по крайней мере даже по топовым словам видна смысловая разница."
   ]
  },
  {
   "cell_type": "code",
   "execution_count": null,
   "metadata": {
    "collapsed": true
   },
   "outputs": [],
   "source": []
  },
  {
   "cell_type": "markdown",
   "metadata": {},
   "source": [
    "i. Придумайте, как оценить интерпретируемость кластеров с помощью\n",
    "асессоров (какие вопросы задавать, как подсчитать качество на\n",
    "основе ответов). Для эксперимента воспользуйтесь кем-то из\n",
    "однокурсников в качестве асессора, и оцените интерпретируемость\n",
    "вашей кластеризации. Имейте ввиду, что такая оценка разумеется не\n",
    "статзначима и по-хорошему нужно привлекать более одного\n",
    "асессора, но протестировать придуманный вами способ оценки до\n",
    "какой-то степени так можно. Опишите ваш способ оценить\n",
    "интерпретируемость кластеризации и результаты в markdown ячейке\n",
    "в вашем ipython notebook."
   ]
  },
  {
   "cell_type": "markdown",
   "metadata": {},
   "source": [
    "### ANS\n",
    "Возьмем два различных кластера и из каждого возмем по N случайных текстов и попросим асессора разделить письма на 2 класса.\n",
    "Можно повторять много раз.\n",
    "Несколько экспериментов показали хорошую различимость классов, например в один класс попали письма-расписания, в другой - письма от Mills, Cheryl D (ассистент? адвокат? Хиллари Клинтон), в третий стандартные сообщения о недаче отправки/получения и т. д."
   ]
  },
  {
   "cell_type": "code",
   "execution_count": 99,
   "metadata": {
    "collapsed": true
   },
   "outputs": [],
   "source": [
    "import random"
   ]
  },
  {
   "cell_type": "code",
   "execution_count": 101,
   "metadata": {
    "collapsed": true
   },
   "outputs": [],
   "source": [
    "def random_samples(label, n, emails, labels):\n",
    "    inds = [i for i, (e, l) in enumerate(zip(emails, labels)) if l == label]\n",
    "    t = list(random.sample(inds, n))\n",
    "    return emails[t]"
   ]
  },
  {
   "cell_type": "code",
   "execution_count": 113,
   "metadata": {
    "collapsed": true
   },
   "outputs": [],
   "source": [
    "random.seed('121')"
   ]
  },
  {
   "cell_type": "code",
   "execution_count": 120,
   "metadata": {},
   "outputs": [
    {
     "name": "stdout",
     "output_type": "stream",
     "text": [
      "1 4\n"
     ]
    }
   ],
   "source": [
    "label1, label2 = random.sample(list(range(len(set(labels)))), 2)\n",
    "print(label1, label2)"
   ]
  },
  {
   "cell_type": "code",
   "execution_count": 121,
   "metadata": {},
   "outputs": [],
   "source": [
    "samples1 = random_samples(label1, 5, emails, labels)\n",
    "samples2 = random_samples(label2, 5, emails, labels)"
   ]
  },
  {
   "cell_type": "code",
   "execution_count": 122,
   "metadata": {
    "collapsed": true
   },
   "outputs": [],
   "source": [
    "samples = list(samples1) + list(samples2)\n",
    "random.shuffle(samples)"
   ]
  },
  {
   "cell_type": "code",
   "execution_count": 123,
   "metadata": {
    "collapsed": true
   },
   "outputs": [],
   "source": [
    "d = '\\n' + '=' * 80 + '\\n'"
   ]
  },
  {
   "cell_type": "code",
   "execution_count": 124,
   "metadata": {},
   "outputs": [
    {
     "name": "stdout",
     "output_type": "stream",
     "text": [
      "Abedin, Huma <AbedinH@state.gov>\n",
      "Saturday, November 28, 2009 5:14 PM\n",
      "H\n",
      "Fw: Quint fms\n",
      "I'm going to\n",
      "propose separate bilats with relevant countries. You ok with proceeding that way?\n",
      "================================================================================\n",
      "Delivery has failed to these recipients or distribution lists:\n",
      "mhcalejaftstate.gov\n",
      "The recipient's e-mail address was not found in the recipient's e-mail system. Microsoft Exchange will not try to redeliver\n",
      "this message for you. Please check the e-mail address and try resending this message, or provide the following diagnostic\n",
      "text to your system administrator.\n",
      "Diagnostic information for administrators:\n",
      "Generating server: MSWASHDCIB03.washdc.state.sbu\n",
      "mhcaleja@state.gov\n",
      "it< #5.1.1> #SMTP#\n",
      "Original message headers:\n",
      "Received: from vance2.state.gov ([10.4.16.238]) by\n",
      "MSWASHDCIB03.washdc.state.sbu with Microsoft SMTPSVC(6.0.3790,3959); Sun, 3\n",
      "Jan 2010 18:36:58 -0500\n",
      "Received: from mail.clintonemail.com (ool-i8bbeabb.static.opton1ine.net [24.187.234.187])\n",
      "by vance2.state.gov with ESMTP id o03NBEEh019168\n",
      "for (mhcaleja@state.gov>; Sun, 3 Jan 2010 18:11:14 -0500\n",
      "Received: from CLNTINET08.clinton.local ([fe80::dObb:23d3:f75e:4993]) by\n",
      "CLNTINET08.clinton.local ([fe80::d0bb:23d3:f75e:4993t10]) with mapi; Sun, 3\n",
      "Jan 2010 18:36:56 -0500\n",
      "================================================================================\n",
      "Abedin, Huma <AbedinH@state.gov>\n",
      "Saturday, December 26, 2009 2:28 PM\n",
      "Re: (Reuters) Taliban Planned to Use Americans In Pakistan Attacks\n",
      "================================================================================\n",
      "Abedin, Huma <AbedinH@state.gov>\n",
      "Wednesday, August 11, 2010 9:51 AM\n",
      "Ebeling, Betsy; H; Huma Abedin; Russo, Robert V\n",
      "RE:\n",
      "He wrote a very beautiful email for hrc which we just printed for her\n",
      "================================================================================\n",
      "Abedin, Huma <AbedinH@state.gov>\n",
      "Sunday, August 23, 2009 9:17 AM\n",
      "H\n",
      "Fw: South Korea's Lee meets North Korean delegation (AP)\n",
      "================================================================================\n",
      "9nm.\n",
      "Griginal Message\n",
      "Fro : H <HDR22@clintonemail.corri>\n",
      "To: Abedin, Huma\n",
      "r;lu Sep 17 21:46:38 2009\n",
      "Subject: Re: Notes\n",
      "the. p!nn,tcrnorrnw ntrh.t?\n",
      "C;(0(.6;;\n",
      "Abedin, <Abedinfl@state.gov>\n",
      "Yo:\n",
      "Sep 17 2.:4:5:01 2005\n",
      "koy,\n",
      "Speech has been faxed\n",
      "For t,Jazirrciw:\n",
      "================================================================================\n",
      "I am currently out of the office. If you need immediate assistance, please contact Joanne Laszczych\n",
      "(LaszczychJ@state.gov) at 202-647-5548.\n",
      "Thank you\n",
      "cdm\n",
      "================================================================================\n",
      "I am on travel and will not return to the office until Tuesday, July 6. If you need immediate assistance please contact\n",
      "Marisa McAuliffe by phone at 202-647-2972 or email at McauliffeMS@state.gov.\n",
      "================================================================================\n",
      "I am currently out of the office but checking email periodically.\n",
      "If you need immediate assistance, please call 202-647-9572. Thank you!\n",
      "1 nR\n",
      "================================================================================\n",
      "Delivery has failed to these recipients or distribution lists:\n",
      "schwerind@state.gov\n",
      "The recipient's e-mail address was not found in the recipient's e-mail system. Microsoft Exchange will not try to redeliver\n",
      "this message for you. Please check the e-mail address and try resending this message, or provide the following diagnostic\n",
      "text to your system administrator.\n",
      "Diagnostic information for administrators:\n",
      "Generating server: MSWASHDCIB01.washdc.state.sbu\n",
      "schwerind@state.gov\n",
      "#< #5.1.1> #SMTP#\n",
      "Original message headers:\n",
      "Received: from vance2.state.gov ([10.4.16.249]) by\n",
      "MSWASHDCIB01.washdc.state.sbu with Microsoft SMTPSVC(6.0.3790.3959); Wed, 8\n",
      "Sep 2010 05:55:05 -0400\n",
      "Received: from mail.clintonemail.com (ool-18bbeabb.static.optonline.net [24.187.234.187])\n",
      "by vance2.state.gov with ESMTP id o889Z0Q1024421\n",
      "(version=TLSv1/SSLv3 cipher=AES128-SHA bits=128 verify=CAFAIL);\n",
      "Wed, 8 Sep 2010 05:35:25 -0400\n",
      "Received: from CLNTINET08.clinton.local ([fe80::d0bb:23d3:f75e:4993]) by\n",
      "CLNTINET08.clinton.local ([fe80::d0bb:23d3:f75e:4993%10]) with mapi; Wed, 8\n",
      "Sep 2010 05:55:05 -0400\n"
     ]
    }
   ],
   "source": [
    "print(d.join(samples))"
   ]
  },
  {
   "cell_type": "code",
   "execution_count": null,
   "metadata": {
    "collapsed": true
   },
   "outputs": [],
   "source": []
  },
  {
   "cell_type": "code",
   "execution_count": 125,
   "metadata": {},
   "outputs": [
    {
     "name": "stdout",
     "output_type": "stream",
     "text": [
      "Abedin, Huma <AbedinH@state.gov>\n",
      "Saturday, December 26, 2009 2:28 PM\n",
      "Re: (Reuters) Taliban Planned to Use Americans In Pakistan Attacks\n",
      "================================================================================\n",
      "Abedin, Huma <AbedinH@state.gov>\n",
      "Saturday, November 28, 2009 5:14 PM\n",
      "H\n",
      "Fw: Quint fms\n",
      "I'm going to\n",
      "propose separate bilats with relevant countries. You ok with proceeding that way?\n",
      "================================================================================\n",
      "Abedin, Huma <AbedinH@state.gov>\n",
      "Wednesday, August 11, 2010 9:51 AM\n",
      "Ebeling, Betsy; H; Huma Abedin; Russo, Robert V\n",
      "RE:\n",
      "He wrote a very beautiful email for hrc which we just printed for her\n",
      "================================================================================\n",
      "Abedin, Huma <AbedinH@state.gov>\n",
      "Sunday, August 23, 2009 9:17 AM\n",
      "H\n",
      "Fw: South Korea's Lee meets North Korean delegation (AP)\n",
      "================================================================================\n",
      "9nm.\n",
      "Griginal Message\n",
      "Fro : H <HDR22@clintonemail.corri>\n",
      "To: Abedin, Huma\n",
      "r;lu Sep 17 21:46:38 2009\n",
      "Subject: Re: Notes\n",
      "the. p!nn,tcrnorrnw ntrh.t?\n",
      "C;(0(.6;;\n",
      "Abedin, <Abedinfl@state.gov>\n",
      "Yo:\n",
      "Sep 17 2.:4:5:01 2005\n",
      "koy,\n",
      "Speech has been faxed\n",
      "For t,Jazirrciw:\n"
     ]
    }
   ],
   "source": [
    "print(d.join(samples1))"
   ]
  },
  {
   "cell_type": "code",
   "execution_count": 126,
   "metadata": {},
   "outputs": [
    {
     "name": "stdout",
     "output_type": "stream",
     "text": [
      "I am currently out of the office but checking email periodically.\n",
      "If you need immediate assistance, please call 202-647-9572. Thank you!\n",
      "1 nR\n",
      "================================================================================\n",
      "I am currently out of the office. If you need immediate assistance, please contact Joanne Laszczych\n",
      "(LaszczychJ@state.gov) at 202-647-5548.\n",
      "Thank you\n",
      "cdm\n",
      "================================================================================\n",
      "I am on travel and will not return to the office until Tuesday, July 6. If you need immediate assistance please contact\n",
      "Marisa McAuliffe by phone at 202-647-2972 or email at McauliffeMS@state.gov.\n",
      "================================================================================\n",
      "Delivery has failed to these recipients or distribution lists:\n",
      "schwerind@state.gov\n",
      "The recipient's e-mail address was not found in the recipient's e-mail system. Microsoft Exchange will not try to redeliver\n",
      "this message for you. Please check the e-mail address and try resending this message, or provide the following diagnostic\n",
      "text to your system administrator.\n",
      "Diagnostic information for administrators:\n",
      "Generating server: MSWASHDCIB01.washdc.state.sbu\n",
      "schwerind@state.gov\n",
      "#< #5.1.1> #SMTP#\n",
      "Original message headers:\n",
      "Received: from vance2.state.gov ([10.4.16.249]) by\n",
      "MSWASHDCIB01.washdc.state.sbu with Microsoft SMTPSVC(6.0.3790.3959); Wed, 8\n",
      "Sep 2010 05:55:05 -0400\n",
      "Received: from mail.clintonemail.com (ool-18bbeabb.static.optonline.net [24.187.234.187])\n",
      "by vance2.state.gov with ESMTP id o889Z0Q1024421\n",
      "(version=TLSv1/SSLv3 cipher=AES128-SHA bits=128 verify=CAFAIL);\n",
      "Wed, 8 Sep 2010 05:35:25 -0400\n",
      "Received: from CLNTINET08.clinton.local ([fe80::d0bb:23d3:f75e:4993]) by\n",
      "CLNTINET08.clinton.local ([fe80::d0bb:23d3:f75e:4993%10]) with mapi; Wed, 8\n",
      "Sep 2010 05:55:05 -0400\n",
      "================================================================================\n",
      "Delivery has failed to these recipients or distribution lists:\n",
      "mhcalejaftstate.gov\n",
      "The recipient's e-mail address was not found in the recipient's e-mail system. Microsoft Exchange will not try to redeliver\n",
      "this message for you. Please check the e-mail address and try resending this message, or provide the following diagnostic\n",
      "text to your system administrator.\n",
      "Diagnostic information for administrators:\n",
      "Generating server: MSWASHDCIB03.washdc.state.sbu\n",
      "mhcaleja@state.gov\n",
      "it< #5.1.1> #SMTP#\n",
      "Original message headers:\n",
      "Received: from vance2.state.gov ([10.4.16.238]) by\n",
      "MSWASHDCIB03.washdc.state.sbu with Microsoft SMTPSVC(6.0.3790,3959); Sun, 3\n",
      "Jan 2010 18:36:58 -0500\n",
      "Received: from mail.clintonemail.com (ool-i8bbeabb.static.opton1ine.net [24.187.234.187])\n",
      "by vance2.state.gov with ESMTP id o03NBEEh019168\n",
      "for (mhcaleja@state.gov>; Sun, 3 Jan 2010 18:11:14 -0500\n",
      "Received: from CLNTINET08.clinton.local ([fe80::dObb:23d3:f75e:4993]) by\n",
      "CLNTINET08.clinton.local ([fe80::d0bb:23d3:f75e:4993t10]) with mapi; Sun, 3\n",
      "Jan 2010 18:36:56 -0500\n"
     ]
    }
   ],
   "source": [
    "print(d.join(samples2))"
   ]
  },
  {
   "cell_type": "code",
   "execution_count": null,
   "metadata": {
    "collapsed": true
   },
   "outputs": [],
   "source": []
  },
  {
   "cell_type": "code",
   "execution_count": null,
   "metadata": {
    "collapsed": true
   },
   "outputs": [],
   "source": []
  }
 ],
 "metadata": {
  "kernelspec": {
   "display_name": "Python 3",
   "language": "python",
   "name": "python3"
  },
  "language_info": {
   "codemirror_mode": {
    "name": "ipython",
    "version": 3
   },
   "file_extension": ".py",
   "mimetype": "text/x-python",
   "name": "python",
   "nbconvert_exporter": "python",
   "pygments_lexer": "ipython3",
   "version": "3.6.0"
  }
 },
 "nbformat": 4,
 "nbformat_minor": 1
}
